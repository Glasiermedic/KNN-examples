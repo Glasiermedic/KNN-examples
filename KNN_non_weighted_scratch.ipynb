{
  "nbformat": 4,
  "nbformat_minor": 0,
  "metadata": {
    "colab": {
      "name": "KNN-1.ipynb",
      "version": "0.3.2",
      "provenance": [],
      "include_colab_link": true
    },
    "kernelspec": {
      "display_name": "Python 3",
      "language": "python",
      "name": "python3"
    }
  },
  "cells": [
    {
      "cell_type": "markdown",
      "metadata": {
        "id": "view-in-github",
        "colab_type": "text"
      },
      "source": [
        "<a href=\"https://colab.research.google.com/github/Glasiermedic/KNN-examples/blob/master/KNN_non_weighted_scratch.ipynb\" target=\"_parent\"><img src=\"https://colab.research.google.com/assets/colab-badge.svg\" alt=\"Open In Colab\"/></a>"
      ]
    },
    {
      "metadata": {
        "deletable": true,
        "editable": true,
        "run_control": {
          "frozen": false,
          "read_only": false
        },
        "id": "0AaGXkcaZLuC",
        "colab_type": "code",
        "colab": {}
      },
      "cell_type": "code",
      "source": [
        "import numpy as np\n",
        "import pandas as pd\n",
        "import matplotlib.pyplot as plt\n",
        "import scipy\n",
        "%matplotlib inline\n",
        "\n",
        "from sklearn.model_selection import train_test_split"
      ],
      "execution_count": 0,
      "outputs": []
    },
    {
      "metadata": {
        "deletable": true,
        "editable": true,
        "run_control": {
          "frozen": false,
          "read_only": false
        },
        "id": "crExtTD5ZLuG",
        "colab_type": "text"
      },
      "cell_type": "markdown",
      "source": [
        "# K Nearest Neighbors Classifiers\n",
        "\n",
        "So far we've covered learning via probability (naive Bayes) and learning via errors (regression). Here we'll cover learning via similarity. This means we look for the datapoints that are most similar to the observation we are trying to predict.\n",
        "\n",
        "Let's start by the simplest example: **Nearest Neighbor**.\n",
        "\n",
        "## Nearest Neighbor\n",
        "\n",
        "Let's use this example: classifying a song as either \"rock\" or \"jazz\". For this data we have measures of duration in seconds and loudness in loudness units (we're not going to be using decibels since that isn't a linear measure, which would create some problems we'll get into later)."
      ]
    },
    {
      "metadata": {
        "deletable": true,
        "editable": true,
        "run_control": {
          "frozen": false,
          "read_only": false
        },
        "id": "b3B19BApZLuI",
        "colab_type": "code",
        "colab": {
          "base_uri": "https://localhost:8080/",
          "height": 293
        },
        "outputId": "650219d5-2f96-43e0-b9f7-0fe213dcb2f4"
      },
      "cell_type": "code",
      "source": [
        "music = pd.DataFrame()\n",
        "\n",
        "# Some data to play with.\n",
        "music['duration'] = [184, 134, 243, 186, 122, 197, 294, 382, 102, 264, \n",
        "                     205, 110, 307, 110, 397, 153, 190, 192, 210, 403,\n",
        "                     164, 198, 204, 253, 234, 190, 182, 401, 376, 102]\n",
        "music['loudness'] = [18, 34, 43, 36, 22, 9, 29, 22, 10, 24, \n",
        "                     20, 10, 17, 51, 7, 13, 19, 12, 21, 22,\n",
        "                     16, 18, 4, 23, 34, 19, 14, 11, 37, 42]\n",
        "\n",
        "# We know whether the songs in our training data are jazz or not.\n",
        "music['jazz'] = [ 1, 0, 0, 0, 1, 1, 0, 1, 1, 0,\n",
        "                  0, 1, 1, 0, 1, 1, 0, 1, 1, 1,\n",
        "                  1, 1, 1, 1, 0, 0, 1, 1, 0, 0]\n",
        "\n",
        "\n",
        "# Look at our data.\n",
        "plt.scatter(\n",
        "    music[music['jazz'] == 1].duration,\n",
        "    music[music['jazz'] == 1].loudness,\n",
        "    color='red'\n",
        ")\n",
        "plt.scatter(\n",
        "    music[music['jazz'] == 0].duration,\n",
        "    music[music['jazz'] == 0].loudness,\n",
        "    color='blue'\n",
        ")\n",
        "plt.legend(['Jazz', 'Rock'])\n",
        "plt.title('Jazz and Rock Characteristics')\n",
        "plt.xlabel('Duration')\n",
        "plt.ylabel('Loudness')\n",
        "plt.show()"
      ],
      "execution_count": 2,
      "outputs": [
        {
          "output_type": "display_data",
          "data": {
            "image/png": "[encoded data removed]",
            "text/plain": [
              "<Figure size 432x288 with 1 Axes>"
            ]
          },
          "metadata": {
            "tags": []
          }
        }
      ]
    },
    {
      "metadata": {
        "deletable": true,
        "editable": true,
        "run_control": {
          "frozen": false,
          "read_only": false
        },
        "id": "JITwV7HHZLuN",
        "colab_type": "text"
      },
      "cell_type": "markdown",
      "source": [
        "The simplest form of a similarity model is the Nearest Neighbor model. This works quite simply: when trying to predict an observation, we find the closest (or _nearest_) known observation in our training data and use that value to make our prediction. Here we'll use the model as a classifier, the outcome of interest will be a category.\n",
        "\n",
        "To find which observation is \"nearest\" we need some kind of way to measure distance. Typically we use _Euclidean distance_, the standard distance measure that you're familiar with from geometry. With one observation in n-dimensions $(x_1, x_2, ...,x_n)$ and the other $(w_1, w_2,...,w_n)$:\n",
        "\n",
        "$$ \\sqrt{(x_1-w_1)^2 + (x_2-w_2)^2+...+(x_n-w_n)^2} $$\n",
        "\n",
        "You might recognize this formula, (taking distances, squaring them, adding the squares together, and taking the root) as a generalization of the [Pythagorean theorem](https://en.wikipedia.org/wiki/Pythagorean_theorem) into n-dimensions. You can technically define any distance measure you want, and there are times where this customization may be valuable. As a general standard, however, we'll use Euclidean distance.\n",
        "\n",
        "Now that we have a distance measure from each point in our training data to the point we're trying to predict the model can find the datapoint with the smallest distance and then apply that category to our prediction.\n",
        "\n",
        "Let's try running this model, using the SKLearn package."
      ]
    },
    {
      "metadata": {
        "deletable": true,
        "editable": true,
        "run_control": {
          "frozen": false,
          "read_only": false
        },
        "id": "SFbyoCadZLuP",
        "colab_type": "code",
        "colab": {
          "base_uri": "https://localhost:8080/",
          "height": 34
        },
        "outputId": "66e01447-96c3-41a0-e0f5-fd6e89f2f613"
      },
      "cell_type": "code",
      "source": [
        "from sklearn.neighbors import KNeighborsClassifier\n",
        "neighbors = KNeighborsClassifier(n_neighbors=1)\n",
        "X = music[['loudness', 'duration']]\n",
        "Y = music.jazz\n",
        "neighbors.fit(X,Y)\n",
        "\n",
        "## Predict for a song with 24 loudness that's 190 seconds long.\n",
        "neighbors.predict([[24, 190]])"
      ],
      "execution_count": 3,
      "outputs": [
        {
          "output_type": "execute_result",
          "data": {
            "text/plain": [
              "array([0])"
            ]
          },
          "metadata": {
            "tags": []
          },
          "execution_count": 3
        }
      ]
    },
    {
      "metadata": {
        "deletable": true,
        "editable": true,
        "run_control": {
          "frozen": false,
          "read_only": false
        },
        "id": "CqmkaUWKZLuV",
        "colab_type": "text"
      },
      "cell_type": "markdown",
      "source": [
        "It's as simple as that. Looks like our model is predicting that 24 loudness, 190 second long song is _not_ jazz. All it takes to train the model is a dataframe of independent variables and a dataframe of dependent outcomes."
      ]
    },
    {
      "metadata": {
        "deletable": true,
        "editable": true,
        "run_control": {
          "frozen": false,
          "read_only": false
        },
        "id": "Mo4rbYWLZLuW",
        "colab_type": "text"
      },
      "cell_type": "markdown",
      "source": [
        "You'll note that for this example, we used the `KNeighborsClassifier` method from SKLearn. This is because Nearest Neighbor is a simplification of K-Nearest Neighbors. The jump, however, isn't that far.\n",
        "\n",
        "## K-Nearest Neighbors\n",
        "\n",
        "**K-Nearest Neighbors** (or \"**KNN**\") is the logical extension of Nearest Neighbor. Instead of looking at just the single nearest datapoint to predict an outcome, we look at several of the nearest neighbors, with $k$ representing the number of neighbors we choose to look at. Each of the $k$ neighbors gets to vote on what the predicted outcome should be.\n",
        "\n",
        "This does a couple of valuable things. Firstly, it smooths out the predictions. If only one neighbor gets to influence the outcome, the model explicitly overfits to the training data. Any single outlier can create pockets of one category prediction surrounded by a sea of the other category.\n",
        "\n",
        "This also means instead of just predicting classes, we get implicit probabilities. If each of the $k$ neighbors gets a vote on the outcome, then the probability of the test example being from any given class $i$ is:\n",
        "$$ \\frac{votes_i}{k} $$\n",
        "\n",
        "And this applies for all classes present in the training set. Our example only has two classes, but this model can accommodate as many classes as the data set necessitates. To come up with a classifier prediction it simply takes the class for which that fraction is maximized.\n",
        "\n",
        "Let's expand our initial nearest neighbors model from above to a KNN with a $k$ of 5."
      ]
    },
    {
      "metadata": {
        "deletable": true,
        "editable": true,
        "run_control": {
          "frozen": false,
          "read_only": false
        },
        "id": "bDOMXJcsZLuY",
        "colab_type": "code",
        "colab": {
          "base_uri": "https://localhost:8080/",
          "height": 51
        },
        "outputId": "dc206880-0f0a-4d8d-d0c1-0bfa49f2e230"
      },
      "cell_type": "code",
      "source": [
        "neighbors = KNeighborsClassifier(n_neighbors=5)\n",
        "X = music[['loudness', 'duration']]\n",
        "Y = music.jazz\n",
        "neighbors.fit(X,Y)\n",
        "\n",
        "## Predict for a 24 loudness, 190 seconds long song.\n",
        "print(neighbors.predict([[24, 190]]))\n",
        "print(neighbors.predict_proba([[24, 190]]))"
      ],
      "execution_count": 4,
      "outputs": [
        {
          "output_type": "stream",
          "text": [
            "[1]\n",
            "[[0.4 0.6]]\n"
          ],
          "name": "stdout"
        }
      ]
    },
    {
      "metadata": {
        "deletable": true,
        "editable": true,
        "run_control": {
          "frozen": false,
          "read_only": false
        },
        "id": "1u2Xf1YBZLud",
        "colab_type": "text"
      },
      "cell_type": "markdown",
      "source": [
        "Now our test prediction has changed. In using the five nearest neighbors it appears that there were two votes for rock and three for jazz, so it was classified as a jazz song. This is different than our simpler Nearest Neighbors model. While the closest observation was in fact rock, there are more jazz songs in the nearest $k$ neighbors than rock.\n",
        "\n",
        "We can visualize our decision bounds with something called a _mesh_. This allows us to generate a prediction over the whole space. Read the code below and make sure you can pull out what the individual lines do, consulting the documentation for unfamiliar methods if necessary."
      ]
    },
    {
      "metadata": {
        "deletable": true,
        "editable": true,
        "run_control": {
          "frozen": false,
          "read_only": false
        },
        "id": "RsqnmwSYZLug",
        "colab_type": "code",
        "colab": {
          "base_uri": "https://localhost:8080/",
          "height": 293
        },
        "outputId": "0cae75c0-5084-4c3d-f4bf-f2880713e066"
      },
      "cell_type": "code",
      "source": [
        "# Our data. Converting from data frames to arrays for the mesh.\n",
        "X = np.array(X)\n",
        "Y = np.array(Y)\n",
        "\n",
        "# Mesh size.\n",
        "h = 4.0\n",
        "\n",
        "# Plot the decision boundary. We assign a color to each point in the mesh.\n",
        "x_min = X[:, 0].min() - .5\n",
        "x_max = X[:, 0].max() + .5\n",
        "y_min = X[:, 1].min() - .5\n",
        "y_max = X[:, 1].max() + .5\n",
        "xx, yy = np.meshgrid(\n",
        "    np.arange(x_min, x_max, h),\n",
        "    np.arange(y_min, y_max, h)\n",
        ")\n",
        "Z = neighbors.predict(np.c_[xx.ravel(), yy.ravel()])\n",
        "\n",
        "# Put the result into a color plot.\n",
        "Z = Z.reshape(xx.shape)\n",
        "plt.figure(1, figsize=(6, 4))\n",
        "plt.set_cmap(plt.cm.Paired)\n",
        "plt.pcolormesh(xx, yy, Z)\n",
        "\n",
        "# Add the training points to the plot.\n",
        "plt.scatter(X[:, 0], X[:, 1], c=Y)\n",
        "plt.xlabel('Loudness')\n",
        "plt.ylabel('Duration')\n",
        "plt.title('Mesh visualization')\n",
        "\n",
        "plt.xlim(xx.min(), xx.max())\n",
        "plt.ylim(yy.min(), yy.max())\n",
        "\n",
        "plt.show()"
      ],
      "execution_count": 5,
      "outputs": [
        {
          "output_type": "display_data",
          "data": {
            "image/png": "[encoded data removed]",
            "text/plain": [
              "<Figure size 432x288 with 1 Axes>"
            ]
          },
          "metadata": {
            "tags": []
          }
        }
      ]
    },
    {
      "metadata": {
        "id": "LGP5WAY_ZLul",
        "colab_type": "text"
      },
      "cell_type": "markdown",
      "source": [
        "Looking at the visualization above, any new point that fell within a blue area would be predicted to be jazz, and any point that fell within a brown area would be predicted to be rock.\n",
        "\n",
        "The boundaries above are strangly jagged here, and we'll get into that in more detail in the next lesson.\n",
        "\n",
        "Also note that the visualization isn't completely continuous. There are an infinite number of points in this space, and we can't calculate the value for each one. That's where the mesh comes in. We set our mesh size (`h = 4.0`) to 4.0 above, which means we calculate the value for each point in a grid where the points are spaced 4.0 away from each other.\n",
        "\n",
        "You can make the mesh size smaller to get a more continuous visualization, but at the cost of a more computationally demanding calculation. In the cell below, recreate the plot above with a mesh size of `10.0`. Then reduce the mesh size until you get a plot that looks good but still renders in a reasonable amount of time. When do you get a visualization that looks acceptably continuous? When do you start to get a noticeable delay?"
      ]
    },
    {
      "metadata": {
        "id": "SumzMQBFZLun",
        "colab_type": "code",
        "colab": {
          "base_uri": "https://localhost:8080/",
          "height": 293
        },
        "outputId": "d4732477-17cf-4a8a-90b4-2a9bb1046062"
      },
      "cell_type": "code",
      "source": [
        "# Play with different mesh sizes here.\n",
        "# Our data. Converting from data frames to arrays for the mesh.\n",
        "X = np.array(X)\n",
        "Y = np.array(Y)\n",
        "\n",
        "# Mesh size.\n",
        "h = .18\n",
        "\n",
        "# Plot the decision boundary. We assign a color to each point in the mesh.\n",
        "x_min = X[:, 0].min() - .5\n",
        "x_max = X[:, 0].max() + .5\n",
        "y_min = X[:, 1].min() - .5\n",
        "y_max = X[:, 1].max() + .5\n",
        "xx, yy = np.meshgrid(\n",
        "    np.arange(x_min, x_max, h),\n",
        "    np.arange(y_min, y_max, h)\n",
        ")\n",
        "Z = neighbors.predict(np.c_[xx.ravel(), yy.ravel()])\n",
        "\n",
        "# Put the result into a color plot.\n",
        "Z = Z.reshape(xx.shape)\n",
        "plt.figure(1, figsize=(6, 4))\n",
        "plt.set_cmap(plt.cm.Paired)\n",
        "plt.pcolormesh(xx, yy, Z)\n",
        "\n",
        "# Add the training points to the plot.\n",
        "plt.scatter(X[:, 0], X[:, 1], c=Y)\n",
        "plt.xlabel('Loudness')\n",
        "plt.ylabel('Duration')\n",
        "plt.title('Mesh visualization')\n",
        "\n",
        "plt.xlim(xx.min(), xx.max())\n",
        "plt.ylim(yy.min(), yy.max())\n",
        "\n",
        "plt.show()\n"
      ],
      "execution_count": 6,
      "outputs": [
        {
          "output_type": "display_data",
          "data": {
            "image/png": "[encoded data removed]",
            "text/plain": [
              "<Figure size 432x288 with 1 Axes>"
            ]
          },
          "metadata": {
            "tags": []
          }
        }
      ]
    },
    {
      "metadata": {
        "deletable": true,
        "editable": true,
        "run_control": {
          "frozen": false,
          "read_only": false
        },
        "id": "uJGsobZXZLuq",
        "colab_type": "text"
      },
      "cell_type": "markdown",
      "source": [
        "Now you've built a KNN model!\n",
        "\n",
        "## Challenge: Implement the Nearest Neighbor algorithm \n",
        "\n",
        "The Nearest Neighbor algorithm is extremely simple. So simple, in fact, that you should be able to build it yourself from scratch using the Python you already know. Code a Nearest Neighbors algorithm that works for two dimensional data. You can use either arrays or dataframes to do this. Test it against the SKLearn package on the music dataset from above to ensure that it's correct. The goal here is to confirm your understanding of the model and continue to practice your Python skills. We're just expecting a brute force method here. After doing this, look up \"ball tree\" methods to see a more performant algorithm design."
      ]
    },
    {
      "metadata": {
        "id": "qLFCdIvCZLur",
        "colab_type": "code",
        "colab": {}
      },
      "cell_type": "code",
      "source": [
        "dur_point = 184\n",
        "loud_point = 18\n",
        "k= 6\n",
        "def KNN_3feat(data,target_feature, feature1,feature2,feature1_point,feature2_point,k):\n",
        "  data['distance'] = np.sqrt((feature1_point - data[feature1])**2 + (feature2_point - data[feature2])**2)\n",
        "  KNN_neigh=data.sort_values(by = 'distance', ascending=True)[:k]\n",
        "  #KNN_answer = ((KNN_neigh[target_feature])/(KNN_neigh['distance']))\n",
        "  a = KNN_neigh[target_feature].median()\n",
        "  print(a)\n",
        "  print(KNN_neigh)\n",
        "  if a >.5:  \n",
        "    print (\"Entry is likely '1'\")\n",
        "  else:\n",
        "    print (\"Entry is likely  '0'\")\n",
        "  \n",
        "  \n",
        "  \n",
        "\n"
      ],
      "execution_count": 0,
      "outputs": []
    },
    {
      "metadata": {
        "id": "IX3uycVBafI6",
        "colab_type": "code",
        "colab": {
          "base_uri": "https://localhost:8080/",
          "height": 172
        },
        "outputId": "5608b9a9-809a-4eba-dc1c-f34f69f80c65"
      },
      "cell_type": "code",
      "source": [
        "KNN_3feat(music,'jazz','loudness','duration',12,192,6)"
      ],
      "execution_count": 88,
      "outputs": [
        {
          "output_type": "stream",
          "text": [
            "1.0\n",
            "    duration  loudness  jazz   distance\n",
            "17       192        12     1   0.000000\n",
            "5        197         9     1   5.830952\n",
            "16       190        19     0   7.280110\n",
            "25       190        19     0   7.280110\n",
            "21       198        18     1   8.485281\n",
            "0        184        18     1  10.000000\n",
            "Entry is likely '1'\n"
          ],
          "name": "stdout"
        }
      ]
    },
    {
      "metadata": {
        "id": "s5ax8HG0mxse",
        "colab_type": "code",
        "colab": {}
      },
      "cell_type": "code",
      "source": [
        ""
      ],
      "execution_count": 0,
      "outputs": []
    },
    {
      "metadata": {
        "id": "OeLn_zAe0zvr",
        "colab_type": "code",
        "colab": {}
      },
      "cell_type": "code",
      "source": [
        ""
      ],
      "execution_count": 0,
      "outputs": []
    }
  ]
}