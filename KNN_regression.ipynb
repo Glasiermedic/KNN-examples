{
  "nbformat": 4,
  "nbformat_minor": 0,
  "metadata": {
    "colab": {
      "name": "KNN_regression.ipynb",
      "version": "0.3.2",
      "provenance": [],
      "collapsed_sections": [],
      "include_colab_link": true
    },
    "kernelspec": {
      "display_name": "Python 3",
      "language": "python",
      "name": "python3"
    }
  },
  "cells": [
    {
      "cell_type": "markdown",
      "metadata": {
        "id": "view-in-github",
        "colab_type": "text"
      },
      "source": [
        "<a href=\"https://colab.research.google.com/github/Glasiermedic/KNN-examples/blob/master/KNN_regression.ipynb\" target=\"_parent\"><img src=\"https://colab.research.google.com/assets/colab-badge.svg\" alt=\"Open In Colab\"/></a>"
      ]
    },
    {
      "metadata": {
        "run_control": {
          "frozen": false,
          "read_only": false
        },
        "id": "gR-_c3B0qw6q",
        "colab_type": "code",
        "colab": {}
      },
      "cell_type": "code",
      "source": [
        "import pandas as pd\n",
        "import numpy as np\n",
        "import scipy\n",
        "import matplotlib.pyplot as plt\n",
        "%matplotlib inline\n",
        "from scipy import stats\n",
        "\n",
        "music = pd.DataFrame()\n",
        "music['duration'] = [184, 134, 243, 186, 122, 197, 294, 382, 102, 264, \n",
        "                     205, 110, 307, 110, 397, 153, 190, 192, 210, 403,\n",
        "                     164, 198, 204, 253, 234, 190, 182, 401, 376, 102]\n",
        "music['loudness'] = [18, 34, 43, 36, 22, 9, 29, 22, 10, 24, \n",
        "                     20, 10, 17, 51, 7, 13, 19, 12, 21, 22,\n",
        "                     16, 18, 4, 23, 34, 19, 14, 11, 37, 42]\n",
        "music['bpm'] = [ 105, 90, 78, 75, 120, 110, 80, 100, 105, 60,\n",
        "                  70, 105, 95, 70, 90, 105, 70, 75, 102, 100,\n",
        "                  100, 95, 90, 80, 90, 80, 100, 105, 70, 65]"
      ],
      "execution_count": 0,
      "outputs": []
    },
    {
      "metadata": {
        "run_control": {
          "frozen": false,
          "read_only": false
        },
        "id": "oXmUDfPHqw6u",
        "colab_type": "text"
      },
      "cell_type": "markdown",
      "source": [
        "# KNN Regression\n",
        "\n",
        "So far we've introduced KNN as a classifier, meaning it assigns observations to categories or assigns probabilities to the various categories. However, KNN is also a reasonable algorithm for regression. It's a simple extension of what we've learned before and just as easy to implement.\n",
        "\n",
        "## Everything's the Same\n",
        "\n",
        "Switching KNN to a regression is a simple process. In our previous models, each of the $k$ oberservations voted for a _category_. As a regression they vote instead for a _value_. Then instead of taking the most popular response, the algorithm averages all of the votes. If you have weights you perform a weighted average.\n",
        "\n",
        "It's really that simple.\n",
        "\n",
        "Let's go over a quick example just to confirm your understanding.\n",
        "\n",
        "Let's stick with the world of music. Instead of trying to classify songs as rock or jazz, lets take the same data with an additional column: beats per minute, or BPM. Can we train our model to predict BPM?\n",
        "\n",
        "First let's try to predict just in terms of loudness, as this will be easier to represent graphically."
      ]
    },
    {
      "metadata": {
        "run_control": {
          "frozen": false,
          "read_only": false
        },
        "id": "la-M3Zfkqw6v",
        "colab_type": "code",
        "outputId": "48b546d2-f5f2-44e8-bee0-c4e55e525a88",
        "colab": {
          "base_uri": "https://localhost:8080/",
          "height": 280
        }
      },
      "cell_type": "code",
      "source": [
        "from sklearn import neighbors\n",
        "\n",
        "# Build our model.\n",
        "knn = neighbors.KNeighborsRegressor(n_neighbors=10)\n",
        "X = pd.DataFrame(music.loudness)\n",
        "Y = music.bpm\n",
        "knn.fit(X, Y)\n",
        "\n",
        "# Set up our prediction line.\n",
        "T = np.arange(0, 50, 0.1)[:, np.newaxis]\n",
        "\n",
        "# Trailing underscores are a common convention for a prediction.\n",
        "Y_ = knn.predict(T)\n",
        "\n",
        "plt.scatter(X, Y, c='k', label='data')\n",
        "plt.plot(T, Y_, c='g', label='prediction')\n",
        "plt.legend()\n",
        "plt.title('K=10, Unweighted')\n",
        "plt.show()"
      ],
      "execution_count": 0,
      "outputs": [
        {
          "output_type": "display_data",
          "data": {
            "image/png": "[encoded data removed]",
            "text/plain": [
              "<Figure size 432x288 with 1 Axes>"
            ]
          },
          "metadata": {
            "tags": []
          }
        }
      ]
    },
    {
      "metadata": {
        "run_control": {
          "frozen": false,
          "read_only": false
        },
        "id": "0Ok7pPBwqw61",
        "colab_type": "code",
        "outputId": "c5e0b109-a408-4742-959f-82674d51e139",
        "colab": {
          "base_uri": "https://localhost:8080/",
          "height": 280
        }
      },
      "cell_type": "code",
      "source": [
        "# Run the same model, this time with weights.\n",
        "knn_w = neighbors.KNeighborsRegressor(n_neighbors=10, weights='distance')\n",
        "X = pd.DataFrame(music.loudness)\n",
        "Y = music.bpm\n",
        "knn_w.fit(X, Y)\n",
        "\n",
        "# Set up our prediction line.\n",
        "T = np.arange(0, 50, 0.1)[:, np.newaxis]\n",
        "\n",
        "Y_ = knn_w.predict(T)\n",
        "\n",
        "plt.scatter(X, Y, c='k', label='data')\n",
        "plt.plot(T, Y_, c='g', label='prediction')\n",
        "plt.legend()\n",
        "plt.title('K=10, Weighted')\n",
        "plt.show()"
      ],
      "execution_count": 0,
      "outputs": [
        {
          "output_type": "display_data",
          "data": {
            "image/png": "[encoded data removed]",
            "text/plain": [
              "<Figure size 432x288 with 1 Axes>"
            ]
          },
          "metadata": {
            "tags": []
          }
        }
      ]
    },
    {
      "metadata": {
        "run_control": {
          "frozen": false,
          "read_only": false
        },
        "id": "vopsLzS_qw66",
        "colab_type": "text"
      },
      "cell_type": "markdown",
      "source": [
        "Notice how it seems like the weighted model grossly overfits to points. It is interesting that it oscillates around the datapoints. This is because the decay in weight happens so quickly.\n",
        "\n",
        "\n",
        "## Validating KNN\n",
        "\n",
        "Now validating KNN, whether a regression or a classifier, is pretty much exactly the same as evaluating other classifiers or regression. Cross validation is still tremendously valuable. You can do holdouts. You even still get an $R^2$ value for the regression.\n",
        "\n",
        "Why don't we validate that overfitting of the previous model with some k-fold cross validation? The test statistic given by this model is $R^2$, which measures the same as in linear regression."
      ]
    },
    {
      "metadata": {
        "run_control": {
          "frozen": false,
          "read_only": false
        },
        "id": "fdUgpp6kqw67",
        "colab_type": "code",
        "outputId": "872382e1-9d3f-4248-a022-cc025f2701cb",
        "colab": {
          "base_uri": "https://localhost:8080/",
          "height": 51
        }
      },
      "cell_type": "code",
      "source": [
        "from sklearn.model_selection import cross_val_score\n",
        "score = -cross_val_score(knn, X, Y, cv=5)\n",
        "print(\"Unweighted Accuracy: %0.2f (+/- %0.2f)\" % (score.mean(), score.std() * 2))\n",
        "score_w = cross_val_score(knn_w, X, Y, cv=5)\n",
        "print(\"Weighted Accuracy: %0.2f (+/- %0.2f)\" % (score_w.mean(), score_w.std() * 2))"
      ],
      "execution_count": 0,
      "outputs": [
        {
          "output_type": "stream",
          "text": [
            "Unweighted Accuracy: 0.18 (+/- 0.66)\n",
            "Weighted Accuracy: 0.11 (+/- 0.94)\n"
          ],
          "name": "stdout"
        }
      ]
    },
    {
      "metadata": {
        "run_control": {
          "frozen": false,
          "read_only": false
        },
        "id": "Iv1odxT3qw7A",
        "colab_type": "text"
      },
      "cell_type": "markdown",
      "source": [
        "\n",
        "\n",
        "###Adding the 'duration' feature, examining various values of 'k' and weighting the votes of the nearest neighbors  \n",
        "\n",
        "#### Adding the duration feature and converting the 'duration and 'loudness' to z-scores (distance from their mean values) and then adding the the weighted votes to the KNN algorithm.  We also will keep using a cross validation and running the validation score metric. "
      ]
    },
    {
      "metadata": {
        "run_control": {
          "frozen": false,
          "read_only": false
        },
        "id": "dfoO5wLSqw7B",
        "colab_type": "code",
        "outputId": "d03ad370-c72b-4243-e7fa-ad8622dde6a7",
        "cellView": "both",
        "colab": {
          "base_uri": "https://localhost:8080/",
          "height": 34
        }
      },
      "cell_type": "code",
      "source": [
        "\n",
        "knn_w = neighbors.KNeighborsRegressor(n_neighbors=10, weights='distance')\n",
        "\n",
        "X_full = pd.DataFrame({'loudness': stats.zscore(music.loudness), \\\n",
        "    'duration': stats.zscore(music.duration)})\n",
        "Y = music.bpm\n",
        "knn_w.fit(X_full, Y)\n",
        "\n",
        "# Build our model.\n",
        "k_changing = 10\n",
        "knn2 = neighbors.KNeighborsRegressor(n_neighbors=k_changing, weights='distance')\n",
        "\n",
        "knn.fit(X_full, Y)\n",
        "score2 = -cross_val_score(knn2, X_full, Y, cv=5)\n",
        "print(\"Weighted Accuracy: %0.2f (+/- %0.2f)\" % (score2.mean(), score2.std() * 2))\n"
      ],
      "execution_count": 0,
      "outputs": [
        {
          "output_type": "stream",
          "text": [
            "Weighted Accuracy: 0.11 (+/- 1.05)\n"
          ],
          "name": "stdout"
        }
      ]
    },
    {
      "metadata": {
        "id": "6DclDn6Iqw7G",
        "colab_type": "code",
        "outputId": "5b4232aa-20c1-4471-944b-767dc773d5c7",
        "cellView": "both",
        "colab": {
          "base_uri": "https://localhost:8080/",
          "height": 707
        }
      },
      "cell_type": "code",
      "source": [
        "#@title\n",
        "L = np.arange(1, 21, 1).tolist()\n",
        "all =pd.DataFrame(columns=L)\n",
        "all_scores =[]\n",
        "all_ks = []\n",
        "for k2 in range(1,21,1):\n",
        "  knn2 = neighbors.KNeighborsRegressor(n_neighbors=k2, weights='distance')\n",
        "  knn2.fit(X_full, Y)\n",
        "  score2 = -cross_val_score(knn2, X_full, Y, cv=5)\n",
        "  score2.tolist()\n",
        "  #for i in score2:\n",
        "   # all[k2]=i\n",
        "    #all_ks.append(k2)\n",
        "  print(\"k = {}\\n Weighted Accuracy: {} (+/- {})\".format(k2, score2.mean(), score2.std() * 2))\n",
        "#print(all.head(10))\n",
        "#plt.scatter(all, all_scores, c='k', label='R Squared')"
      ],
      "execution_count": 56,
      "outputs": [
        {
          "output_type": "stream",
          "text": [
            "k = 1\n",
            " Weighted Accuracy: 1.7335895364580736 (+/- 4.448388506658972)\n",
            "k = 2\n",
            " Weighted Accuracy: 1.0646377949370092 (+/- 3.269452023340208)\n",
            "k = 3\n",
            " Weighted Accuracy: 0.6232147798733185 (+/- 2.289873832928066)\n",
            "k = 4\n",
            " Weighted Accuracy: 0.4404603260733989 (+/- 1.9142165144716006)\n",
            "k = 5\n",
            " Weighted Accuracy: 0.4297019771805018 (+/- 1.9868605513392905)\n",
            "k = 6\n",
            " Weighted Accuracy: 0.3813317915887984 (+/- 1.8402731890650454)\n",
            "k = 7\n",
            " Weighted Accuracy: 0.36989109950079835 (+/- 1.8592415636413981)\n",
            "k = 8\n",
            " Weighted Accuracy: 0.22891709399008647 (+/- 1.4776804518506808)\n",
            "k = 9\n",
            " Weighted Accuracy: 0.16871901305385367 (+/- 1.2345460869680287)\n",
            "k = 10\n",
            " Weighted Accuracy: 0.11440584993834604 (+/- 1.046473206233728)\n",
            "k = 11\n",
            " Weighted Accuracy: 0.11310603992841692 (+/- 0.9805723677313746)\n",
            "k = 12\n",
            " Weighted Accuracy: 0.11530378678403237 (+/- 0.9781323055751331)\n",
            "k = 13\n",
            " Weighted Accuracy: 0.10211356470833562 (+/- 0.9126170922251168)\n",
            "k = 14\n",
            " Weighted Accuracy: 0.10016590502388938 (+/- 0.904804908449124)\n",
            "k = 15\n",
            " Weighted Accuracy: 0.11006996463342886 (+/- 0.847944673574255)\n",
            "k = 16\n",
            " Weighted Accuracy: 0.1110851025199489 (+/- 0.8046835852240545)\n",
            "k = 17\n",
            " Weighted Accuracy: 0.12009265785683443 (+/- 0.7893457448362348)\n",
            "k = 18\n",
            " Weighted Accuracy: 0.11213849718131734 (+/- 0.7494555311235823)\n",
            "k = 19\n",
            " Weighted Accuracy: 0.12509244621429133 (+/- 0.7075036985231795)\n",
            "k = 20\n",
            " Weighted Accuracy: 0.13101972778700618 (+/- 0.7117668506370765)\n"
          ],
          "name": "stdout"
        }
      ]
    },
    {
      "metadata": {
        "id": "SBGXVfXE4PZy",
        "colab_type": "code",
        "colab": {}
      },
      "cell_type": "code",
      "source": [
        ""
      ],
      "execution_count": 0,
      "outputs": []
    }
  ]
}